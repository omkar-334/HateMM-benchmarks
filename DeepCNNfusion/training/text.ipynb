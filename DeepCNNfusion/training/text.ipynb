{
  "cells": [
    {
      "cell_type": "code",
      "execution_count": 2,
      "metadata": {
        "id": "8DKN6fhinXi6"
      },
      "outputs": [],
      "source": [
        "from google.colab import userdata\n",
        "import os\n",
        "\n",
        "os.environ[\"KAGGLE_KEY\"] = userdata.get('KAGGLE_KEY')\n",
        "os.environ[\"KAGGLE_USERNAME\"] = userdata.get('KAGGLE_USERNAME')"
      ]
    },
    {
      "cell_type": "code",
      "execution_count": 3,
      "metadata": {
        "colab": {
          "base_uri": "https://localhost:8080/"
        },
        "id": "7nHP7dLTobhK",
        "outputId": "d5ef16aa-6573-452a-d005-05cab12993fc"
      },
      "outputs": [
        {
          "name": "stdout",
          "output_type": "stream",
          "text": [
            "Dataset URL: https://www.kaggle.com/datasets/praveengovi/emotions-dataset-for-nlp\n",
            "License(s): CC-BY-SA-4.0\n",
            "Downloading emotions-dataset-for-nlp.zip to /content\n",
            "  0% 0.00/721k [00:00<?, ?B/s]\n",
            "100% 721k/721k [00:00<00:00, 138MB/s]\n"
          ]
        }
      ],
      "source": [
        "!kaggle datasets download -d praveengovi/emotions-dataset-for-nlp"
      ]
    },
    {
      "cell_type": "code",
      "execution_count": 4,
      "metadata": {
        "colab": {
          "base_uri": "https://localhost:8080/"
        },
        "id": "wzZf2bJTol2l",
        "outputId": "ea084d2c-3c51-4a6b-da2d-728e39c345c8"
      },
      "outputs": [
        {
          "name": "stdout",
          "output_type": "stream",
          "text": [
            "Archive:  emotions-dataset-for-nlp.zip\n",
            "  inflating: test.txt                \n",
            "  inflating: train.txt               \n",
            "  inflating: val.txt                 \n"
          ]
        }
      ],
      "source": [
        "! unzip \"emotions-dataset-for-nlp.zip\""
      ]
    },
    {
      "cell_type": "code",
      "execution_count": 9,
      "metadata": {
        "id": "HFC2sKelqPbK"
      },
      "outputs": [],
      "source": [
        "!pip install pandas fasttext nltk -q"
      ]
    },
    {
      "cell_type": "code",
      "execution_count": 18,
      "metadata": {
        "colab": {
          "base_uri": "https://localhost:8080/"
        },
        "id": "4IFTbb3HrLky",
        "outputId": "815548da-442a-4c8c-c02a-cc26976513dc"
      },
      "outputs": [
        {
          "name": "stderr",
          "output_type": "stream",
          "text": [
            "[nltk_data] Downloading package stopwords to /root/nltk_data...\n",
            "[nltk_data]   Package stopwords is already up-to-date!\n",
            "[nltk_data] Downloading package punkt_tab to /root/nltk_data...\n",
            "[nltk_data]   Package punkt_tab is already up-to-date!\n",
            "[nltk_data] Downloading package wordnet to /root/nltk_data...\n"
          ]
        },
        {
          "data": {
            "text/plain": [
              "True"
            ]
          },
          "execution_count": 18,
          "metadata": {},
          "output_type": "execute_result"
        }
      ],
      "source": [
        "import nltk\n",
        "nltk.download('stopwords')\n",
        "nltk.download('punkt_tab')\n",
        "nltk.download('wordnet')"
      ]
    },
    {
      "cell_type": "markdown",
      "metadata": {
        "id": "WvpodtJiwFOd"
      },
      "source": [
        "Text Preprocessing"
      ]
    },
    {
      "cell_type": "code",
      "execution_count": 24,
      "metadata": {
        "id": "EAh-qamxqq35"
      },
      "outputs": [],
      "source": [
        "from preprocessing import preprocess_text"
      ]
    },
    {
      "cell_type": "code",
      "execution_count": 27,
      "metadata": {
        "id": "SinTwSzsq-7x"
      },
      "outputs": [],
      "source": [
        "import pandas as pd\n",
        "import fasttext\n",
        "\n",
        "def load_and_save_data(file):\n",
        "  df = pd.read_csv(file , delimiter=\";\", header=None, names=[\"text\", \"emotion\"])\n",
        "  df['preprocessed_text'] = df['text'].apply(preprocess_text)\n",
        "  df['label'] = df.apply(lambda row: f\"__label__{row['emotion']} {row['preprocessed_text']}\", axis=1)\n",
        "  df['label'].to_csv(file, index=False, header=False)\n",
        "  return df\n",
        "\n",
        "\n",
        "train = load_and_save_data(\"train.txt\")\n",
        "test = load_and_save_data(\"test.txt\")\n",
        "val = load_and_save_data(\"val.txt\")"
      ]
    },
    {
      "cell_type": "markdown",
      "metadata": {
        "id": "qKD16S_EwATE"
      },
      "source": [
        "In this study, the pre-trained fastText model was trained for 8 epochs\n",
        " on the 80% training data with a learning rate of 0.7 and the number\n",
        " of wordgrams as 4. The loss function used was one-versus-all, for\n",
        " efficient multi-class classification.This loss function creates 6 different\n",
        " binary classification models for each of the 6 classes and trains each\n",
        " with respect to all others."
      ]
    },
    {
      "cell_type": "code",
      "execution_count": 33,
      "metadata": {
        "id": "UccvJLmqraY-"
      },
      "outputs": [],
      "source": [
        "model = fasttext.train_supervised(\n",
        "    input=\"train.txt\",\n",
        "    lr=0.7,\n",
        "    epoch=8,\n",
        "    wordNgrams=4,\n",
        "    loss=\"ova\",\n",
        ")"
      ]
    },
    {
      "cell_type": "code",
      "execution_count": 37,
      "metadata": {
        "colab": {
          "base_uri": "https://localhost:8080/"
        },
        "id": "WsDYVwnKs9ho",
        "outputId": "b468b05c-a05f-486b-db3d-d49301037cf3"
      },
      "outputs": [
        {
          "name": "stdout",
          "output_type": "stream",
          "text": [
            "Number of examples: 2000\n",
            "Precision at 1: 0.8895\n",
            "Recall at 1: 0.8895\n",
            "Validation Precision: 0.89\n",
            "Validation Recall: 0.89\n"
          ]
        }
      ],
      "source": [
        "result = model.test(\"test.txt\")\n",
        "\n",
        "print(f\"Number of examples: {result[0]}\")\n",
        "print(f\"Precision at 1: {result[1]}\")\n",
        "print(f\"Recall at 1: {result[2]}\")\n",
        "\n",
        "val_result = model.test(\"_val.txt\")\n",
        "print(f\"Validation Precision: {val_result[1]}\")\n",
        "print(f\"Validation Recall: {val_result[2]}\")"
      ]
    },
    {
      "cell_type": "code",
      "execution_count": 43,
      "metadata": {
        "colab": {
          "base_uri": "https://localhost:8080/"
        },
        "id": "VfNMTLA7uJCs",
        "outputId": "e8b2dc5b-4405-4e30-da03-85d9b0d85bb1"
      },
      "outputs": [
        {
          "name": "stdout",
          "output_type": "stream",
          "text": [
            "Epoch 1: Precision=0.7175, Recall=0.7175 - Saved model\n",
            "Epoch 2: Precision=0.8795, Recall=0.8795 - Saved model\n",
            "Epoch 3: Precision=0.891, Recall=0.891 - Saved model\n",
            "Epoch 4: Precision=0.8965, Recall=0.8965 - Saved model\n",
            "Epoch 5: Precision=0.893, Recall=0.893 - \n",
            "Epoch 6: Precision=0.892, Recall=0.892 - \n",
            "Epoch 7: Precision=0.8915, Recall=0.8915 - \n",
            "Epoch 8: Precision=0.89, Recall=0.89 - \n",
            "Epoch 9: Precision=0.891, Recall=0.891 - \n",
            "Epoch 10: Precision=0.8935, Recall=0.8935 - \n",
            "Epoch 11: Precision=0.89, Recall=0.89 - \n",
            "Epoch 12: Precision=0.8905, Recall=0.8905 - \n",
            "Epoch 13: Precision=0.8905, Recall=0.8905 - \n",
            "Epoch 14: Precision=0.8905, Recall=0.8905 - \n",
            "Epoch 15: Precision=0.8905, Recall=0.8905 - \n",
            "Epoch 16: Precision=0.89, Recall=0.89 - \n",
            "Epoch 17: Precision=0.8895, Recall=0.8895 - \n",
            "Epoch 18: Precision=0.8895, Recall=0.8895 - \n",
            "Epoch 19: Precision=0.8885, Recall=0.8885 - \n"
          ]
        }
      ],
      "source": [
        "import fasttext\n",
        "import matplotlib.pyplot as plt\n",
        "\n",
        "best_accuracy = 0\n",
        "best_model = None\n",
        "\n",
        "precisions = []\n",
        "recalls = []\n",
        "\n",
        "for epoch in range(1, 20):\n",
        "    model = fasttext.train_supervised(\n",
        "        input=\"train.txt\",\n",
        "        lr=0.7,\n",
        "        epoch=epoch,\n",
        "        wordNgrams=4,\n",
        "        loss=\"ova\"\n",
        "    )\n",
        "\n",
        "    result = model.test(\"val.txt\")\n",
        "    precision, recall = result[1], result[2]\n",
        "\n",
        "    precisions.append(precision)\n",
        "    recalls.append(recall)\n",
        "\n",
        "    print(f\"Epoch {epoch}: Precision={precision}, Recall={recall}\", end = ' - ')\n",
        "\n",
        "    if precision > best_accuracy:\n",
        "        best_accuracy = precision\n",
        "        best_model = model\n",
        "        model.save_model(\"best_model.bin\")\n",
        "        print(\"Saved model\")\n",
        "    else:\n",
        "      print()"
      ]
    },
    {
      "cell_type": "markdown",
      "metadata": {
        "id": "Ud4xle8ewcur"
      },
      "source": [
        "As you can see, the best accuracy was obtained at Epoch 4 , whereas the paper used 8 epochs."
      ]
    },
    {
      "cell_type": "code",
      "execution_count": 44,
      "metadata": {
        "colab": {
          "base_uri": "https://localhost:8080/",
          "height": 564
        },
        "id": "v_5VyN4svgGB",
        "outputId": "59054373-d42a-4f33-ff56-5387bd58df25"
      },
      "outputs": [
        {
          "data": {
            "image/png": "[encoded data removed]",
            "text/plain": [
              "<Figure size 1000x600 with 1 Axes>"
            ]
          },
          "metadata": {},
          "output_type": "display_data"
        }
      ],
      "source": [
        "plt.figure(figsize=(10, 6))\n",
        "plt.plot(range(1, 20), precisions, label='Precision', marker='o')\n",
        "plt.plot(range(1, 20), recalls, label='Recall', marker='x')\n",
        "plt.xlabel('Epochs')\n",
        "plt.ylabel('Score')\n",
        "plt.title('Precision and Recall over Epochs')\n",
        "plt.legend()\n",
        "plt.grid(True)\n",
        "plt.savefig('precision_recall_plot.png')\n",
        "plt.show()"
      ]
    }
  ],
  "metadata": {
    "accelerator": "GPU",
    "colab": {
      "gpuType": "T4",
      "provenance": []
    },
    "kernelspec": {
      "display_name": "Python 3",
      "name": "python3"
    },
    "language_info": {
      "name": "python"
    }
  },
  "nbformat": 4,
  "nbformat_minor": 0
}
