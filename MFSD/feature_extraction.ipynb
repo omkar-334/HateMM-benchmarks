{
 "cells": [
  {
   "cell_type": "code",
   "execution_count": 1,
   "id": "f20ac886-559d-4937-8588-d5cef20a44f7",
   "metadata": {},
   "outputs": [],
   "source": [
    "!pip install torch numpy librosa torchvision tqdm zenodo_get h5py -q"
   ]
  },
  {
   "cell_type": "code",
   "execution_count": 2,
   "id": "a2e20d1c-99cb-4285-a9f2-6c690d86aa28",
   "metadata": {},
   "outputs": [],
   "source": [
    "!zenodo_get 7799469"
   ]
  },
  {
   "cell_type": "code",
   "execution_count": 3,
   "id": "b95a76be-be52-49a3-8cff-983619fcf018",
   "metadata": {},
   "outputs": [],
   "source": [
    "!mkdir -p videos\n",
    "!apt update\n",
    "!apt install unzip\n",
    "\n",
    "!unzip hate_videos.zip -d videos > /dev/null 2>&1\n",
    "!unzip non_hate_videos.zip -d videos > /dev/null 2>&1"
   ]
  },
  {
   "cell_type": "code",
   "execution_count": 24,
   "id": "485e33bb-711c-4ac8-a1e0-4c6864db5229",
   "metadata": {},
   "outputs": [],
   "source": [
    "import os\n",
    "import shutil\n",
    "\n",
    "main_folder = 'videos'\n",
    "folder = 'videos/non_hate_videos'\n",
    "for i in os.listdir(folder):\n",
    "    file_path = os.path.join(folder, i)\n",
    "    if os.path.isfile(file_path):\n",
    "        shutil.move(file_path, main_folder)\n",
    "os.rmdir(folder)\n",
    "\n",
    "folder = 'videos/hate_videos'\n",
    "for i in os.listdir(folder):\n",
    "    file_path = os.path.join(folder, i)\n",
    "    if os.path.isfile(file_path):\n",
    "        shutil.move(file_path, main_folder)\n",
    "os.rmdir(folder)"
   ]
  },
  {
   "cell_type": "code",
   "execution_count": 8,
   "id": "51bab2c6-eb2b-4523-862f-f1d7ebd62cf4",
   "metadata": {},
   "outputs": [],
   "source": [
    "!which ffmpeg\n",
    "!export PATH=\"/usr/bin/ffmpeg\"\n",
    "\n",
    "!chmod +x extract_audio_files.sh\n",
    "!./extract_audio_files.sh\n"
   ]
  },
  {
   "cell_type": "code",
   "execution_count": 6,
   "id": "a5af32c7-664f-4660-97ca-aa61315d1cce",
   "metadata": {},
   "outputs": [
    {
     "name": "stderr",
     "output_type": "stream",
     "text": [
      "Extracting ResNet features: 100%|██████████| 228939/228939 [1:19:18<00:00, 48.11it/s]  \n"
     ]
    }
   ],
   "source": [
    "from preprocessing.video import save_resnet_features\n",
    "\n",
    "save_resnet_features()"
   ]
  },
  {
   "cell_type": "code",
   "execution_count": 8,
   "id": "ef0288d8-0d1f-45c8-add5-176185bf0120",
   "metadata": {},
   "outputs": [
    {
     "data": {
      "text/plain": [
       "1047"
      ]
     },
     "execution_count": 8,
     "metadata": {},
     "output_type": "execute_result"
    }
   ],
   "source": [
    "len(os.listdir('features'))"
   ]
  },
  {
   "cell_type": "code",
   "execution_count": 6,
   "id": "a83abb4a-a80d-4183-ad1d-3effa1293ab8",
   "metadata": {},
   "outputs": [
    {
     "data": {
      "application/vnd.jupyter.widget-view+json": {
       "model_id": "8e6d1d2a812d456387b08530f5582c10",
       "version_major": 2,
       "version_minor": 0
      },
      "text/plain": [
       "Computing the audio features:   0%|          | 0/1068 [00:00<?, ?it/s]"
      ]
     },
     "metadata": {},
     "output_type": "display_data"
    }
   ],
   "source": [
    "from preprocessing.audio import save_audio_features()\n",
    "save_audio_features()"
   ]
  }
 ],
 "metadata": {
  "kernelspec": {
   "display_name": "Python 3 (ipykernel)",
   "language": "python",
   "name": "python3"
  },
  "language_info": {
   "codemirror_mode": {
    "name": "ipython",
    "version": 3
   },
   "file_extension": ".py",
   "mimetype": "text/x-python",
   "name": "python",
   "nbconvert_exporter": "python",
   "pygments_lexer": "ipython3",
   "version": "3.10.12"
  }
 },
 "nbformat": 4,
 "nbformat_minor": 5
}
