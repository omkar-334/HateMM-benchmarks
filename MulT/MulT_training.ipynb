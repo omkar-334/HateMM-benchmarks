{
 "cells": [
  {
   "cell_type": "code",
   "execution_count": null,
   "id": "f8a262c7-cfbf-4f53-bc53-d63ea027d403",
   "metadata": {},
   "outputs": [],
   "source": [
    "# !pip install numpy transformers torch pandas"
   ]
  },
  {
   "cell_type": "code",
   "execution_count": null,
   "id": "8e6b1bc8-1dc4-435f-a5da-460ac0391db4",
   "metadata": {},
   "outputs": [],
   "source": [
    "# import torch\n",
    "# dataset = torch.load('multimodal_dataset.pt')"
   ]
  },
  {
   "cell_type": "code",
   "execution_count": 1,
   "id": "6baef62f-ddf6-40f8-8b95-071dcc90bb15",
   "metadata": {
    "scrolled": true
   },
   "outputs": [
    {
     "name": "stderr",
     "output_type": "stream",
     "text": [
      "/usr/local/lib/python3.10/dist-packages/torch/nn/modules/transformer.py:282: UserWarning: enable_nested_tensor is True, but self.use_nested_tensor is False because encoder_layer.self_attn.batch_first was not True(use batch_first for better inference performance)\n",
      "  warnings.warn(f\"enable_nested_tensor is True, but self.use_nested_tensor is False because {why_not_sparsity_fast_path}\")\n"
     ]
    },
    {
     "name": "stdout",
     "output_type": "stream",
     "text": [
      "Starting training...\n"
     ]
    },
    {
     "name": "stderr",
     "output_type": "stream",
     "text": [
      "Epoch 1/30: 100%|██████████| 27/27 [00:02<00:00, 11.37it/s, loss=0.6593]\n"
     ]
    },
    {
     "name": "stdout",
     "output_type": "stream",
     "text": [
      "\n",
      "Validation Metrics:\n",
      "--------------------------------------------------\n",
      "Accuracy: 0.6154\n",
      "Precision: 0.3787\n",
      "Recall: 0.6154\n",
      "F1: 0.4689\n",
      "--------------------------------------------------\n",
      "\n",
      "Saving best model with validation loss: 0.6714\n",
      "\n",
      "Epoch 1/30 - Time: 2.48s\n",
      "Train Loss: 0.6925 | Val Loss: 0.6714\n",
      "--------------------------------------------------\n"
     ]
    },
    {
     "name": "stderr",
     "output_type": "stream",
     "text": [
      "Epoch 2/30: 100%|██████████| 27/27 [00:02<00:00, 11.76it/s, loss=0.7437]\n"
     ]
    },
    {
     "name": "stdout",
     "output_type": "stream",
     "text": [
      "\n",
      "Validation Metrics:\n",
      "--------------------------------------------------\n",
      "Accuracy: 0.6154\n",
      "Precision: 0.3787\n",
      "Recall: 0.6154\n",
      "F1: 0.4689\n",
      "--------------------------------------------------\n",
      "\n",
      "Saving best model with validation loss: 0.6665\n",
      "\n",
      "Epoch 2/30 - Time: 2.40s\n",
      "Train Loss: 0.6790 | Val Loss: 0.6665\n",
      "--------------------------------------------------\n"
     ]
    },
    {
     "name": "stderr",
     "output_type": "stream",
     "text": [
      "Epoch 3/30: 100%|██████████| 27/27 [00:02<00:00, 11.70it/s, loss=0.7201]\n"
     ]
    },
    {
     "name": "stdout",
     "output_type": "stream",
     "text": [
      "\n",
      "Validation Metrics:\n",
      "--------------------------------------------------\n",
      "Accuracy: 0.6154\n",
      "Precision: 0.3787\n",
      "Recall: 0.6154\n",
      "F1: 0.4689\n",
      "--------------------------------------------------\n",
      "\n",
      "Epoch 3/30 - Time: 2.40s\n",
      "Train Loss: 0.6780 | Val Loss: 0.6730\n",
      "--------------------------------------------------\n"
     ]
    },
    {
     "name": "stderr",
     "output_type": "stream",
     "text": [
      "Epoch 4/30: 100%|██████████| 27/27 [00:02<00:00, 11.68it/s, loss=0.7620]\n"
     ]
    },
    {
     "name": "stdout",
     "output_type": "stream",
     "text": [
      "\n",
      "Validation Metrics:\n",
      "--------------------------------------------------\n",
      "Accuracy: 0.6154\n",
      "Precision: 0.3787\n",
      "Recall: 0.6154\n",
      "F1: 0.4689\n",
      "--------------------------------------------------\n",
      "\n",
      "Epoch 4/30 - Time: 2.40s\n",
      "Train Loss: 0.6857 | Val Loss: 0.6733\n",
      "--------------------------------------------------\n"
     ]
    },
    {
     "name": "stderr",
     "output_type": "stream",
     "text": [
      "Epoch 5/30: 100%|██████████| 27/27 [00:02<00:00, 11.81it/s, loss=0.6985]\n"
     ]
    },
    {
     "name": "stdout",
     "output_type": "stream",
     "text": [
      "\n",
      "Validation Metrics:\n",
      "--------------------------------------------------\n",
      "Accuracy: 0.6154\n",
      "Precision: 0.3787\n",
      "Recall: 0.6154\n",
      "F1: 0.4689\n",
      "--------------------------------------------------\n",
      "\n",
      "Epoch 5/30 - Time: 2.38s\n",
      "Train Loss: 0.6775 | Val Loss: 0.6675\n",
      "--------------------------------------------------\n"
     ]
    },
    {
     "name": "stderr",
     "output_type": "stream",
     "text": [
      "Epoch 6/30: 100%|██████████| 27/27 [00:02<00:00, 11.77it/s, loss=0.7421]\n"
     ]
    },
    {
     "name": "stdout",
     "output_type": "stream",
     "text": [
      "\n",
      "Validation Metrics:\n",
      "--------------------------------------------------\n",
      "Accuracy: 0.6154\n",
      "Precision: 0.3787\n",
      "Recall: 0.6154\n",
      "F1: 0.4689\n",
      "--------------------------------------------------\n",
      "\n",
      "Saving best model with validation loss: 0.6663\n",
      "\n",
      "Epoch 6/30 - Time: 2.40s\n",
      "Train Loss: 0.6793 | Val Loss: 0.6663\n",
      "--------------------------------------------------\n"
     ]
    },
    {
     "name": "stderr",
     "output_type": "stream",
     "text": [
      "Epoch 7/30: 100%|██████████| 27/27 [00:02<00:00, 12.01it/s, loss=0.8009]\n"
     ]
    },
    {
     "name": "stdout",
     "output_type": "stream",
     "text": [
      "\n",
      "Validation Metrics:\n",
      "--------------------------------------------------\n",
      "Accuracy: 0.6154\n",
      "Precision: 0.3787\n",
      "Recall: 0.6154\n",
      "F1: 0.4689\n",
      "--------------------------------------------------\n",
      "\n",
      "Epoch 7/30 - Time: 2.34s\n",
      "Train Loss: 0.6817 | Val Loss: 0.6694\n",
      "--------------------------------------------------\n"
     ]
    },
    {
     "name": "stderr",
     "output_type": "stream",
     "text": [
      "Epoch 8/30: 100%|██████████| 27/27 [00:02<00:00, 11.60it/s, loss=0.7267]\n"
     ]
    },
    {
     "name": "stdout",
     "output_type": "stream",
     "text": [
      "\n",
      "Validation Metrics:\n",
      "--------------------------------------------------\n",
      "Accuracy: 0.6154\n",
      "Precision: 0.3787\n",
      "Recall: 0.6154\n",
      "F1: 0.4689\n",
      "--------------------------------------------------\n",
      "\n",
      "Epoch 8/30 - Time: 2.42s\n",
      "Train Loss: 0.6776 | Val Loss: 0.6672\n",
      "--------------------------------------------------\n"
     ]
    },
    {
     "name": "stderr",
     "output_type": "stream",
     "text": [
      "Epoch 9/30: 100%|██████████| 27/27 [00:02<00:00, 11.72it/s, loss=0.6976]\n"
     ]
    },
    {
     "name": "stdout",
     "output_type": "stream",
     "text": [
      "\n",
      "Validation Metrics:\n",
      "--------------------------------------------------\n",
      "Accuracy: 0.6154\n",
      "Precision: 0.3787\n",
      "Recall: 0.6154\n",
      "F1: 0.4689\n",
      "--------------------------------------------------\n",
      "\n",
      "Epoch 9/30 - Time: 2.40s\n",
      "Train Loss: 0.6756 | Val Loss: 0.6697\n",
      "--------------------------------------------------\n"
     ]
    },
    {
     "name": "stderr",
     "output_type": "stream",
     "text": [
      "Epoch 10/30: 100%|██████████| 27/27 [00:02<00:00, 11.58it/s, loss=0.7838]\n"
     ]
    },
    {
     "name": "stdout",
     "output_type": "stream",
     "text": [
      "\n",
      "Validation Metrics:\n",
      "--------------------------------------------------\n",
      "Accuracy: 0.6154\n",
      "Precision: 0.3787\n",
      "Recall: 0.6154\n",
      "F1: 0.4689\n",
      "--------------------------------------------------\n",
      "\n",
      "Epoch 10/30 - Time: 2.42s\n",
      "Train Loss: 0.6799 | Val Loss: 0.6708\n",
      "--------------------------------------------------\n"
     ]
    },
    {
     "name": "stderr",
     "output_type": "stream",
     "text": [
      "Epoch 11/30: 100%|██████████| 27/27 [00:02<00:00, 11.65it/s, loss=0.7981]\n"
     ]
    },
    {
     "name": "stdout",
     "output_type": "stream",
     "text": [
      "\n",
      "Validation Metrics:\n",
      "--------------------------------------------------\n",
      "Accuracy: 0.6154\n",
      "Precision: 0.3787\n",
      "Recall: 0.6154\n",
      "F1: 0.4689\n",
      "--------------------------------------------------\n",
      "\n",
      "Epoch 11/30 - Time: 2.41s\n",
      "Train Loss: 0.6833 | Val Loss: 0.6681\n",
      "--------------------------------------------------\n"
     ]
    },
    {
     "name": "stderr",
     "output_type": "stream",
     "text": [
      "Epoch 12/30: 100%|██████████| 27/27 [00:02<00:00, 11.87it/s, loss=0.8624]\n"
     ]
    },
    {
     "name": "stdout",
     "output_type": "stream",
     "text": [
      "\n",
      "Validation Metrics:\n",
      "--------------------------------------------------\n",
      "Accuracy: 0.6154\n",
      "Precision: 0.3787\n",
      "Recall: 0.6154\n",
      "F1: 0.4689\n",
      "--------------------------------------------------\n",
      "\n",
      "Epoch 12/30 - Time: 2.37s\n",
      "Train Loss: 0.6850 | Val Loss: 0.6663\n",
      "--------------------------------------------------\n"
     ]
    },
    {
     "name": "stderr",
     "output_type": "stream",
     "text": [
      "Epoch 13/30: 100%|██████████| 27/27 [00:02<00:00, 12.17it/s, loss=0.5835]\n"
     ]
    },
    {
     "name": "stdout",
     "output_type": "stream",
     "text": [
      "\n",
      "Validation Metrics:\n",
      "--------------------------------------------------\n",
      "Accuracy: 0.6154\n",
      "Precision: 0.3787\n",
      "Recall: 0.6154\n",
      "F1: 0.4689\n",
      "--------------------------------------------------\n",
      "\n",
      "Epoch 13/30 - Time: 2.31s\n",
      "Train Loss: 0.6724 | Val Loss: 0.6664\n",
      "--------------------------------------------------\n"
     ]
    },
    {
     "name": "stderr",
     "output_type": "stream",
     "text": [
      "Epoch 14/30: 100%|██████████| 27/27 [00:02<00:00, 11.90it/s, loss=0.6937]\n"
     ]
    },
    {
     "name": "stdout",
     "output_type": "stream",
     "text": [
      "\n",
      "Validation Metrics:\n",
      "--------------------------------------------------\n",
      "Accuracy: 0.6154\n",
      "Precision: 0.3787\n",
      "Recall: 0.6154\n",
      "F1: 0.4689\n",
      "--------------------------------------------------\n",
      "\n",
      "Epoch 14/30 - Time: 2.36s\n",
      "Train Loss: 0.6788 | Val Loss: 0.6747\n",
      "--------------------------------------------------\n"
     ]
    },
    {
     "name": "stderr",
     "output_type": "stream",
     "text": [
      "Epoch 15/30: 100%|██████████| 27/27 [00:02<00:00, 11.92it/s, loss=0.5698]\n"
     ]
    },
    {
     "name": "stdout",
     "output_type": "stream",
     "text": [
      "\n",
      "Validation Metrics:\n",
      "--------------------------------------------------\n",
      "Accuracy: 0.6154\n",
      "Precision: 0.3787\n",
      "Recall: 0.6154\n",
      "F1: 0.4689\n",
      "--------------------------------------------------\n",
      "\n",
      "Epoch 15/30 - Time: 2.36s\n",
      "Train Loss: 0.6706 | Val Loss: 0.6666\n",
      "--------------------------------------------------\n"
     ]
    },
    {
     "name": "stderr",
     "output_type": "stream",
     "text": [
      "Epoch 16/30: 100%|██████████| 27/27 [00:02<00:00, 11.84it/s, loss=0.7858]\n"
     ]
    },
    {
     "name": "stdout",
     "output_type": "stream",
     "text": [
      "\n",
      "Validation Metrics:\n",
      "--------------------------------------------------\n",
      "Accuracy: 0.6154\n",
      "Precision: 0.3787\n",
      "Recall: 0.6154\n",
      "F1: 0.4689\n",
      "--------------------------------------------------\n",
      "\n",
      "Epoch 16/30 - Time: 2.37s\n",
      "Train Loss: 0.6846 | Val Loss: 0.6699\n",
      "--------------------------------------------------\n"
     ]
    },
    {
     "name": "stderr",
     "output_type": "stream",
     "text": [
      "Epoch 17/30: 100%|██████████| 27/27 [00:02<00:00, 11.74it/s, loss=0.7963]\n"
     ]
    },
    {
     "name": "stdout",
     "output_type": "stream",
     "text": [
      "\n",
      "Validation Metrics:\n",
      "--------------------------------------------------\n",
      "Accuracy: 0.6154\n",
      "Precision: 0.3787\n",
      "Recall: 0.6154\n",
      "F1: 0.4689\n",
      "--------------------------------------------------\n",
      "Epoch 00017: reducing learning rate of group 0 to 1.0000e-03.\n",
      "\n",
      "Epoch 17/30 - Time: 2.39s\n",
      "Train Loss: 0.6803 | Val Loss: 0.6696\n",
      "--------------------------------------------------\n"
     ]
    },
    {
     "name": "stderr",
     "output_type": "stream",
     "text": [
      "Epoch 18/30: 100%|██████████| 27/27 [00:02<00:00, 12.06it/s, loss=0.7817]\n"
     ]
    },
    {
     "name": "stdout",
     "output_type": "stream",
     "text": [
      "\n",
      "Validation Metrics:\n",
      "--------------------------------------------------\n",
      "Accuracy: 0.6154\n",
      "Precision: 0.3787\n",
      "Recall: 0.6154\n",
      "F1: 0.4689\n",
      "--------------------------------------------------\n",
      "\n",
      "Epoch 18/30 - Time: 2.33s\n",
      "Train Loss: 0.6798 | Val Loss: 0.6699\n",
      "--------------------------------------------------\n"
     ]
    },
    {
     "name": "stderr",
     "output_type": "stream",
     "text": [
      "Epoch 19/30: 100%|██████████| 27/27 [00:02<00:00, 11.85it/s, loss=0.7013]\n"
     ]
    },
    {
     "name": "stdout",
     "output_type": "stream",
     "text": [
      "\n",
      "Validation Metrics:\n",
      "--------------------------------------------------\n",
      "Accuracy: 0.6154\n",
      "Precision: 0.3787\n",
      "Recall: 0.6154\n",
      "F1: 0.4689\n",
      "--------------------------------------------------\n",
      "\n",
      "Epoch 19/30 - Time: 2.37s\n",
      "Train Loss: 0.6761 | Val Loss: 0.6697\n",
      "--------------------------------------------------\n"
     ]
    },
    {
     "name": "stderr",
     "output_type": "stream",
     "text": [
      "Epoch 20/30: 100%|██████████| 27/27 [00:02<00:00, 11.92it/s, loss=0.6404]\n"
     ]
    },
    {
     "name": "stdout",
     "output_type": "stream",
     "text": [
      "\n",
      "Validation Metrics:\n",
      "--------------------------------------------------\n",
      "Accuracy: 0.6154\n",
      "Precision: 0.3787\n",
      "Recall: 0.6154\n",
      "F1: 0.4689\n",
      "--------------------------------------------------\n",
      "\n",
      "Epoch 20/30 - Time: 2.36s\n",
      "Train Loss: 0.6749 | Val Loss: 0.6685\n",
      "--------------------------------------------------\n"
     ]
    },
    {
     "name": "stderr",
     "output_type": "stream",
     "text": [
      "Epoch 21/30: 100%|██████████| 27/27 [00:02<00:00, 11.82it/s, loss=0.6357]\n"
     ]
    },
    {
     "name": "stdout",
     "output_type": "stream",
     "text": [
      "\n",
      "Validation Metrics:\n",
      "--------------------------------------------------\n",
      "Accuracy: 0.6154\n",
      "Precision: 0.3787\n",
      "Recall: 0.6154\n",
      "F1: 0.4689\n",
      "--------------------------------------------------\n",
      "\n",
      "Epoch 21/30 - Time: 2.38s\n",
      "Train Loss: 0.6740 | Val Loss: 0.6678\n",
      "--------------------------------------------------\n"
     ]
    },
    {
     "name": "stderr",
     "output_type": "stream",
     "text": [
      "Epoch 22/30: 100%|██████████| 27/27 [00:02<00:00, 12.17it/s, loss=0.6217]\n"
     ]
    },
    {
     "name": "stdout",
     "output_type": "stream",
     "text": [
      "\n",
      "Validation Metrics:\n",
      "--------------------------------------------------\n",
      "Accuracy: 0.6154\n",
      "Precision: 0.3787\n",
      "Recall: 0.6154\n",
      "F1: 0.4689\n",
      "--------------------------------------------------\n",
      "\n",
      "Epoch 22/30 - Time: 2.31s\n",
      "Train Loss: 0.6725 | Val Loss: 0.6677\n",
      "--------------------------------------------------\n"
     ]
    },
    {
     "name": "stderr",
     "output_type": "stream",
     "text": [
      "Epoch 23/30: 100%|██████████| 27/27 [00:02<00:00, 11.82it/s, loss=0.6295]\n"
     ]
    },
    {
     "name": "stdout",
     "output_type": "stream",
     "text": [
      "\n",
      "Validation Metrics:\n",
      "--------------------------------------------------\n",
      "Accuracy: 0.6154\n",
      "Precision: 0.3787\n",
      "Recall: 0.6154\n",
      "F1: 0.4689\n",
      "--------------------------------------------------\n",
      "\n",
      "Epoch 23/30 - Time: 2.38s\n",
      "Train Loss: 0.6730 | Val Loss: 0.6671\n",
      "--------------------------------------------------\n"
     ]
    },
    {
     "name": "stderr",
     "output_type": "stream",
     "text": [
      "Epoch 24/30: 100%|██████████| 27/27 [00:02<00:00, 11.86it/s, loss=0.7269]\n"
     ]
    },
    {
     "name": "stdout",
     "output_type": "stream",
     "text": [
      "\n",
      "Validation Metrics:\n",
      "--------------------------------------------------\n",
      "Accuracy: 0.6154\n",
      "Precision: 0.3787\n",
      "Recall: 0.6154\n",
      "F1: 0.4689\n",
      "--------------------------------------------------\n",
      "\n",
      "Epoch 24/30 - Time: 2.37s\n",
      "Train Loss: 0.6755 | Val Loss: 0.6668\n",
      "--------------------------------------------------\n"
     ]
    },
    {
     "name": "stderr",
     "output_type": "stream",
     "text": [
      "Epoch 25/30: 100%|██████████| 27/27 [00:02<00:00, 12.28it/s, loss=0.8163]\n"
     ]
    },
    {
     "name": "stdout",
     "output_type": "stream",
     "text": [
      "\n",
      "Validation Metrics:\n",
      "--------------------------------------------------\n",
      "Accuracy: 0.6154\n",
      "Precision: 0.3787\n",
      "Recall: 0.6154\n",
      "F1: 0.4689\n",
      "--------------------------------------------------\n",
      "\n",
      "Epoch 25/30 - Time: 2.29s\n",
      "Train Loss: 0.6801 | Val Loss: 0.6673\n",
      "--------------------------------------------------\n"
     ]
    },
    {
     "name": "stderr",
     "output_type": "stream",
     "text": [
      "Epoch 26/30: 100%|██████████| 27/27 [00:02<00:00, 11.80it/s, loss=0.8114]\n"
     ]
    },
    {
     "name": "stdout",
     "output_type": "stream",
     "text": [
      "\n",
      "Validation Metrics:\n",
      "--------------------------------------------------\n",
      "Accuracy: 0.6154\n",
      "Precision: 0.3787\n",
      "Recall: 0.6154\n",
      "F1: 0.4689\n",
      "--------------------------------------------------\n",
      "\n",
      "Epoch 26/30 - Time: 2.38s\n",
      "Train Loss: 0.6796 | Val Loss: 0.6674\n",
      "--------------------------------------------------\n"
     ]
    },
    {
     "name": "stderr",
     "output_type": "stream",
     "text": [
      "Epoch 27/30: 100%|██████████| 27/27 [00:02<00:00, 11.67it/s, loss=0.6192]\n"
     ]
    },
    {
     "name": "stdout",
     "output_type": "stream",
     "text": [
      "\n",
      "Validation Metrics:\n",
      "--------------------------------------------------\n",
      "Accuracy: 0.6154\n",
      "Precision: 0.3787\n",
      "Recall: 0.6154\n",
      "F1: 0.4689\n",
      "--------------------------------------------------\n",
      "\n",
      "Epoch 27/30 - Time: 2.41s\n",
      "Train Loss: 0.6732 | Val Loss: 0.6677\n",
      "--------------------------------------------------\n"
     ]
    },
    {
     "name": "stderr",
     "output_type": "stream",
     "text": [
      "Epoch 28/30: 100%|██████████| 27/27 [00:02<00:00, 12.08it/s, loss=0.7108]\n"
     ]
    },
    {
     "name": "stdout",
     "output_type": "stream",
     "text": [
      "\n",
      "Validation Metrics:\n",
      "--------------------------------------------------\n",
      "Accuracy: 0.6154\n",
      "Precision: 0.3787\n",
      "Recall: 0.6154\n",
      "F1: 0.4689\n",
      "--------------------------------------------------\n",
      "Epoch 00028: reducing learning rate of group 0 to 1.0000e-04.\n",
      "\n",
      "Epoch 28/30 - Time: 2.33s\n",
      "Train Loss: 0.6755 | Val Loss: 0.6675\n",
      "--------------------------------------------------\n"
     ]
    },
    {
     "name": "stderr",
     "output_type": "stream",
     "text": [
      "Epoch 29/30: 100%|██████████| 27/27 [00:02<00:00, 12.00it/s, loss=0.5172]\n"
     ]
    },
    {
     "name": "stdout",
     "output_type": "stream",
     "text": [
      "\n",
      "Validation Metrics:\n",
      "--------------------------------------------------\n",
      "Accuracy: 0.6154\n",
      "Precision: 0.3787\n",
      "Recall: 0.6154\n",
      "F1: 0.4689\n",
      "--------------------------------------------------\n",
      "\n",
      "Epoch 29/30 - Time: 2.35s\n",
      "Train Loss: 0.6703 | Val Loss: 0.6675\n",
      "--------------------------------------------------\n"
     ]
    },
    {
     "name": "stderr",
     "output_type": "stream",
     "text": [
      "Epoch 30/30: 100%|██████████| 27/27 [00:02<00:00, 11.93it/s, loss=0.7157]\n"
     ]
    },
    {
     "name": "stdout",
     "output_type": "stream",
     "text": [
      "\n",
      "Validation Metrics:\n",
      "--------------------------------------------------\n",
      "Accuracy: 0.6154\n",
      "Precision: 0.3787\n",
      "Recall: 0.6154\n",
      "F1: 0.4689\n",
      "--------------------------------------------------\n",
      "\n",
      "Epoch 30/30 - Time: 2.36s\n",
      "Train Loss: 0.6766 | Val Loss: 0.6674\n",
      "--------------------------------------------------\n",
      "\n",
      "Test Metrics:\n",
      "--------------------------------------------------\n",
      "Accuracy: 0.6571\n",
      "Precision: 0.4318\n",
      "Recall: 0.6571\n",
      "F1: 0.5212\n",
      "--------------------------------------------------\n"
     ]
    }
   ],
   "source": [
    "from torch.utils.data import DataLoader\n",
    "from train import Trainer\n",
    "from model import MulT\n",
    "import torch\n",
    "\n",
    "dataset = torch.load('multimodal_dataset.pt')\n",
    "\n",
    "train_size = int(0.8 * len(dataset))\n",
    "val_size = int(0.1 * len(dataset))\n",
    "test_size = len(dataset) - train_size - val_size\n",
    "train_dataset, val_dataset, test_dataset = torch.utils.data.random_split(dataset, [train_size, val_size, test_size])\n",
    "train_loader = DataLoader(train_dataset, batch_size=32, shuffle=True)\n",
    "val_loader = DataLoader(val_dataset, batch_size=32)\n",
    "test_loader = DataLoader(test_dataset, batch_size=32)\n",
    "\n",
    "\n",
    "model = MulT(128)\n",
    "trainer = Trainer(model, train_loader, val_loader, test_loader, lr=1e-2, num_epochs=30)\n",
    "trainer.train()"
   ]
  }
 ],
 "metadata": {
  "kernelspec": {
   "display_name": "Python 3 (ipykernel)",
   "language": "python",
   "name": "python3"
  },
  "language_info": {
   "codemirror_mode": {
    "name": "ipython",
    "version": 3
   },
   "file_extension": ".py",
   "mimetype": "text/x-python",
   "name": "python",
   "nbconvert_exporter": "python",
   "pygments_lexer": "ipython3",
   "version": "3.10.12"
  }
 },
 "nbformat": 4,
 "nbformat_minor": 5
}
