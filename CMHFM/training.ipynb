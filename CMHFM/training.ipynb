{
 "cells": [
  {
   "cell_type": "code",
   "execution_count": 3,
   "id": "18853f2f-6486-4a9c-9e4e-49988aed39c0",
   "metadata": {
    "collapsed": true,
    "jupyter": {
     "outputs_hidden": true
    }
   },
   "outputs": [
    {
     "name": "stdout",
     "output_type": "stream",
     "text": [
      "Archive:  features.zip\n",
      "  inflating: features.pkl            \n"
     ]
    }
   ],
   "source": [
    "# !unzip features.zip"
   ]
  },
  {
   "cell_type": "code",
   "execution_count": null,
   "id": "dea4fa4e-5b35-48b2-b2d8-1fd9347299ca",
   "metadata": {},
   "outputs": [],
   "source": [
    "# from dataset import Multimodal_Dataset\n",
    "# dataset = Multimodal_Dataset()"
   ]
  },
  {
   "cell_type": "code",
   "execution_count": 1,
   "id": "a71e0498-6cf3-4bc5-93aa-91260e4e7d24",
   "metadata": {},
   "outputs": [],
   "source": [
    "import torch\n",
    "# torch.save(dataset, 'multimodal_dataset.pt')\n",
    "dataset = torch.load( 'multimodal_dataset.pt')"
   ]
  },
  {
   "cell_type": "code",
   "execution_count": 2,
   "id": "b8512eab-1e19-4965-a4c7-5e58f20aff24",
   "metadata": {},
   "outputs": [],
   "source": [
    "import torch\n",
    "import torch.nn as nn\n",
    "import torch.optim as optim\n",
    "from torch.utils.data import DataLoader, Dataset, random_split\n",
    "from tqdm import tqdm\n",
    "\n",
    "BATCH_SIZE = 8\n",
    "\n",
    "train_size = int(0.8 * len(dataset))\n",
    "test_size = len(dataset) - train_size\n",
    "train_dataset, test_dataset = random_split(dataset, [train_size, test_size])\n",
    "\n",
    "train_dataloader = DataLoader(train_dataset, batch_size=BATCH_SIZE, shuffle=True)\n",
    "test_dataloader = DataLoader(test_dataset, batch_size=BATCH_SIZE, shuffle=False)"
   ]
  },
  {
   "cell_type": "code",
   "execution_count": 3,
   "id": "c67d5e87-a28d-498b-b273-f14986950fd7",
   "metadata": {},
   "outputs": [],
   "source": [
    "from model import MultiModalSentimentModel\n",
    "DEVICE = torch.device(\"cuda\" if torch.cuda.is_available() else \"cpu\")\n",
    "\n",
    "model = MultiModalSentimentModel().to(DEVICE)\n",
    "optimizer = optim.AdamW(model.parameters(), lr=0.002)\n",
    "scaler = torch.cuda.amp.GradScaler()\n",
    "\n",
    "from train import train, validate"
   ]
  },
  {
   "cell_type": "code",
   "execution_count": 4,
   "id": "80a9139a-9252-4c2b-84ea-1c1e0965d360",
   "metadata": {},
   "outputs": [
    {
     "name": "stderr",
     "output_type": "stream",
     "text": [
      "Epoch 1/20: 100%|██████████| 105/105 [00:00<00:00, 175.69it/s]\n"
     ]
    },
    {
     "name": "stdout",
     "output_type": "stream",
     "text": [
      "Epoch 1, Loss: 6.0329\n",
      "Accuracy: 0.5849, Precision: 0.4545, Recall: 0.1484, F1: 0.2237\n"
     ]
    },
    {
     "name": "stderr",
     "output_type": "stream",
     "text": [
      "Epoch 2/20: 100%|██████████| 105/105 [00:00<00:00, 226.54it/s]\n"
     ]
    },
    {
     "name": "stdout",
     "output_type": "stream",
     "text": [
      "Epoch 2, Loss: 3.5887\n",
      "Accuracy: 0.6148, Precision: 0.6027, Recall: 0.1306, F1: 0.2146\n"
     ]
    },
    {
     "name": "stderr",
     "output_type": "stream",
     "text": [
      "Epoch 3/20: 100%|██████████| 105/105 [00:00<00:00, 278.39it/s]\n"
     ]
    },
    {
     "name": "stdout",
     "output_type": "stream",
     "text": [
      "Epoch 3, Loss: 3.1858\n",
      "Accuracy: 0.6136, Precision: 0.6061, Recall: 0.1187, F1: 0.1985\n"
     ]
    },
    {
     "name": "stderr",
     "output_type": "stream",
     "text": [
      "Epoch 4/20: 100%|██████████| 105/105 [00:00<00:00, 170.65it/s]\n"
     ]
    },
    {
     "name": "stdout",
     "output_type": "stream",
     "text": [
      "Epoch 4, Loss: 3.9881\n",
      "Accuracy: 0.5945, Precision: 0.4898, Recall: 0.1424, F1: 0.2207\n"
     ]
    },
    {
     "name": "stderr",
     "output_type": "stream",
     "text": [
      "Epoch 5/20: 100%|██████████| 105/105 [00:00<00:00, 146.44it/s]\n"
     ]
    },
    {
     "name": "stdout",
     "output_type": "stream",
     "text": [
      "Epoch 5, Loss: 2.5074\n",
      "Accuracy: 0.6806, Precision: 0.8646, Recall: 0.2463, F1: 0.3834\n"
     ]
    },
    {
     "name": "stderr",
     "output_type": "stream",
     "text": [
      "Epoch 6/20: 100%|██████████| 105/105 [00:00<00:00, 134.99it/s]\n"
     ]
    },
    {
     "name": "stdout",
     "output_type": "stream",
     "text": [
      "Epoch 6, Loss: 10.0309\n",
      "Accuracy: 0.6388, Precision: 0.6012, Recall: 0.3086, F1: 0.4078\n"
     ]
    },
    {
     "name": "stderr",
     "output_type": "stream",
     "text": [
      "Epoch 7/20: 100%|██████████| 105/105 [00:00<00:00, 134.80it/s]\n"
     ]
    },
    {
     "name": "stdout",
     "output_type": "stream",
     "text": [
      "Epoch 7, Loss: 106.1315\n",
      "Accuracy: 0.6077, Precision: 0.5257, Recall: 0.2730, F1: 0.3594\n"
     ]
    },
    {
     "name": "stderr",
     "output_type": "stream",
     "text": [
      "Epoch 8/20: 100%|██████████| 105/105 [00:00<00:00, 133.46it/s]\n"
     ]
    },
    {
     "name": "stdout",
     "output_type": "stream",
     "text": [
      "Epoch 8, Loss: 9.5342\n",
      "Accuracy: 0.6603, Precision: 0.8630, Recall: 0.1869, F1: 0.3073\n"
     ]
    },
    {
     "name": "stderr",
     "output_type": "stream",
     "text": [
      "Epoch 9/20: 100%|██████████| 105/105 [00:00<00:00, 132.41it/s]\n"
     ]
    },
    {
     "name": "stdout",
     "output_type": "stream",
     "text": [
      "Epoch 9, Loss: 3.6499\n",
      "Accuracy: 0.6986, Precision: 0.9126, Recall: 0.2789, F1: 0.4273\n"
     ]
    },
    {
     "name": "stderr",
     "output_type": "stream",
     "text": [
      "Epoch 10/20: 100%|██████████| 105/105 [00:00<00:00, 133.49it/s]\n"
     ]
    },
    {
     "name": "stdout",
     "output_type": "stream",
     "text": [
      "Epoch 10, Loss: 2.1620\n",
      "Accuracy: 0.7344, Precision: 0.9600, Recall: 0.3561, F1: 0.5195\n"
     ]
    },
    {
     "name": "stderr",
     "output_type": "stream",
     "text": [
      "Epoch 11/20: 100%|██████████| 105/105 [00:00<00:00, 133.18it/s]\n"
     ]
    },
    {
     "name": "stdout",
     "output_type": "stream",
     "text": [
      "Epoch 11, Loss: 2.2542\n",
      "Accuracy: 0.7488, Precision: 0.9150, Recall: 0.4154, F1: 0.5714\n"
     ]
    },
    {
     "name": "stderr",
     "output_type": "stream",
     "text": [
      "Epoch 12/20: 100%|██████████| 105/105 [00:00<00:00, 131.97it/s]\n"
     ]
    },
    {
     "name": "stdout",
     "output_type": "stream",
     "text": [
      "Epoch 12, Loss: 1.8838\n",
      "Accuracy: 0.7703, Precision: 0.9394, Recall: 0.4599, F1: 0.6175\n"
     ]
    },
    {
     "name": "stderr",
     "output_type": "stream",
     "text": [
      "Epoch 13/20: 100%|██████████| 105/105 [00:00<00:00, 131.21it/s]\n"
     ]
    },
    {
     "name": "stdout",
     "output_type": "stream",
     "text": [
      "Epoch 13, Loss: 1.8953\n",
      "Accuracy: 0.7775, Precision: 0.9364, Recall: 0.4807, F1: 0.6353\n"
     ]
    },
    {
     "name": "stderr",
     "output_type": "stream",
     "text": [
      "Epoch 14/20: 100%|██████████| 105/105 [00:00<00:00, 133.09it/s]\n"
     ]
    },
    {
     "name": "stdout",
     "output_type": "stream",
     "text": [
      "Epoch 14, Loss: 1.8681\n",
      "Accuracy: 0.7859, Precision: 0.8950, Recall: 0.5312, F1: 0.6667\n"
     ]
    },
    {
     "name": "stderr",
     "output_type": "stream",
     "text": [
      "Epoch 15/20: 100%|██████████| 105/105 [00:00<00:00, 131.05it/s]\n"
     ]
    },
    {
     "name": "stdout",
     "output_type": "stream",
     "text": [
      "Epoch 15, Loss: 1.7036\n",
      "Accuracy: 0.7967, Precision: 0.9034, Recall: 0.5549, F1: 0.6875\n"
     ]
    },
    {
     "name": "stderr",
     "output_type": "stream",
     "text": [
      "Epoch 16/20: 100%|██████████| 105/105 [00:00<00:00, 134.54it/s]\n"
     ]
    },
    {
     "name": "stdout",
     "output_type": "stream",
     "text": [
      "Epoch 16, Loss: 1.5891\n",
      "Accuracy: 0.8074, Precision: 0.9314, Recall: 0.5638, F1: 0.7024\n"
     ]
    },
    {
     "name": "stderr",
     "output_type": "stream",
     "text": [
      "Epoch 17/20: 100%|██████████| 105/105 [00:00<00:00, 135.02it/s]\n"
     ]
    },
    {
     "name": "stdout",
     "output_type": "stream",
     "text": [
      "Epoch 17, Loss: 2.1450\n",
      "Accuracy: 0.8086, Precision: 0.8766, Recall: 0.6113, F1: 0.7203\n"
     ]
    },
    {
     "name": "stderr",
     "output_type": "stream",
     "text": [
      "Epoch 18/20: 100%|██████████| 105/105 [00:00<00:00, 134.56it/s]\n"
     ]
    },
    {
     "name": "stdout",
     "output_type": "stream",
     "text": [
      "Epoch 18, Loss: 2.1945\n",
      "Accuracy: 0.8278, Precision: 0.8755, Recall: 0.6677, F1: 0.7576\n"
     ]
    },
    {
     "name": "stderr",
     "output_type": "stream",
     "text": [
      "Epoch 19/20: 100%|██████████| 105/105 [00:00<00:00, 135.02it/s]\n"
     ]
    },
    {
     "name": "stdout",
     "output_type": "stream",
     "text": [
      "Epoch 19, Loss: 1.5603\n",
      "Accuracy: 0.8349, Precision: 0.9234, Recall: 0.6439, F1: 0.7587\n"
     ]
    },
    {
     "name": "stderr",
     "output_type": "stream",
     "text": [
      "Epoch 20/20: 100%|██████████| 105/105 [00:00<00:00, 134.93it/s]"
     ]
    },
    {
     "name": "stdout",
     "output_type": "stream",
     "text": [
      "Epoch 20, Loss: 1.4586\n",
      "Accuracy: 0.8373, Precision: 0.9313, Recall: 0.6439, F1: 0.7614\n"
     ]
    },
    {
     "name": "stderr",
     "output_type": "stream",
     "text": [
      "\n"
     ]
    }
   ],
   "source": [
    "model = train(model, train_dataloader, optimizer, scaler)"
   ]
  },
  {
   "cell_type": "code",
   "execution_count": 8,
   "id": "23a4f54e-a0c1-49df-9a1a-ace405d8ec74",
   "metadata": {},
   "outputs": [
    {
     "name": "stdout",
     "output_type": "stream",
     "text": [
      "Validation Loss: 8.3566\n",
      "Accuracy: 0.6507, Precision: 0.5165, Recall: 0.6184, F1: 0.5629\n"
     ]
    }
   ],
   "source": [
    "validate(model, test_dataloader)"
   ]
  }
 ],
 "metadata": {
  "kernelspec": {
   "display_name": "Python 3 (ipykernel)",
   "language": "python",
   "name": "python3"
  },
  "language_info": {
   "codemirror_mode": {
    "name": "ipython",
    "version": 3
   },
   "file_extension": ".py",
   "mimetype": "text/x-python",
   "name": "python",
   "nbconvert_exporter": "python",
   "pygments_lexer": "ipython3",
   "version": "3.10.12"
  }
 },
 "nbformat": 4,
 "nbformat_minor": 5
}
